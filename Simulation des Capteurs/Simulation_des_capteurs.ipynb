{
  "cells": [
    {
      "cell_type": "code",
      "source": [
        "pip install git+https://github.com/ozgur/python-firebase"
      ],
      "metadata": {
        "id": "x87JzHW_MRkT"
      },
      "execution_count": null,
      "outputs": []
    },
    {
      "cell_type": "code",
      "source": [
        "from firebase import firebase\n",
        "import time\n",
        "import random\n",
        "\n",
        "\n",
        "url = 'https://iotapp-ae6e4-default-rtdb.firebaseio.com/'\n",
        "firebase = firebase.FirebaseApplication(url)\n",
        "while True:\n",
        "    cTemp = random.randint(35,38)\n",
        "    Tension = random.randint(10,14)\n",
        "    Card = random.randint(55,85)\n",
        "    data={'Température': str(cTemp),'Tension':str(Tension), 'frequence cardiaque':str(Card)}\n",
        "    result = firebase.post(\"User\", data)\n",
        "    time.sleep(20)"
      ],
      "metadata": {
        "id": "gz8KBIaLLo4Q"
      },
      "execution_count": null,
      "outputs": []
    }
  ],
  "metadata": {
    "colab": {
      "collapsed_sections": [],
      "name": "Simulation des capteurs",
      "toc_visible": true,
      "provenance": []
    },
    "kernelspec": {
      "display_name": "Python 3",
      "name": "python3"
    }
  },
  "nbformat": 4,
  "nbformat_minor": 0
}